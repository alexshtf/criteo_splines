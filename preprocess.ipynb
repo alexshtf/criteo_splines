{
 "cells": [
  {
   "cell_type": "code",
   "execution_count": 25,
   "id": "f82778e7-c50b-46b3-8e07-94a716a35118",
   "metadata": {},
   "outputs": [],
   "source": [
    "import lz4.frame\n",
    "import polars as pl\n",
    "from scipy.interpolate import BSpline\n",
    "from config import columns, split_fractions, int_cols\n",
    "import matplotlib.pyplot as plt\n",
    "import numpy as np\n",
    "import scipy.special\n",
    "import itertools\n",
    "import torch\n",
    "import math"
   ]
  },
  {
   "cell_type": "code",
   "execution_count": 26,
   "id": "2ca07da3-3bd8-470d-91f0-91b93d02f340",
   "metadata": {},
   "outputs": [
    {
     "name": "stderr",
     "output_type": "stream",
     "text": [
      "/tmp/ipykernel_880231/3088064557.py:3: UserWarning: Polars found a filename. Ensure you pass a path to the file instead of a python file object when possible for best performance.\n",
      "  df = pl.read_csv(f, separator='\\t', has_header=False, new_columns=columns)\n"
     ]
    }
   ],
   "source": [
    "data_file = 'train.txt.lz4'\n",
    "with lz4.frame.open(data_file, 'rb') as f:\n",
    "    df = pl.read_csv(f, separator='\\t', has_header=False, new_columns=columns)"
   ]
  },
  {
   "cell_type": "code",
   "execution_count": 27,
   "id": "22002604-566d-4707-bc9e-a26a4f25910e",
   "metadata": {},
   "outputs": [
    {
     "data": {
      "text/html": [
       "<div><style>\n",
       ".dataframe > thead > tr,\n",
       ".dataframe > tbody > tr {\n",
       "  text-align: right;\n",
       "  white-space: pre-wrap;\n",
       "}\n",
       "</style>\n",
       "<small>shape: (5, 40)</small><table border=\"1\" class=\"dataframe\"><thead><tr><th>label</th><th>I_1</th><th>I_2</th><th>I_3</th><th>I_4</th><th>I_5</th><th>I_6</th><th>I_7</th><th>I_8</th><th>I_9</th><th>I_10</th><th>I_11</th><th>I_12</th><th>I_13</th><th>C_1</th><th>C_2</th><th>C_3</th><th>C_4</th><th>C_5</th><th>C_6</th><th>C_7</th><th>C_8</th><th>C_9</th><th>C_10</th><th>C_11</th><th>C_12</th><th>C_13</th><th>C_14</th><th>C_15</th><th>C_16</th><th>C_17</th><th>C_18</th><th>C_19</th><th>C_20</th><th>C_21</th><th>C_22</th><th>C_23</th><th>C_24</th><th>C_25</th><th>C_26</th></tr><tr><td>i64</td><td>i64</td><td>i64</td><td>i64</td><td>i64</td><td>i64</td><td>i64</td><td>i64</td><td>i64</td><td>i64</td><td>i64</td><td>i64</td><td>i64</td><td>i64</td><td>str</td><td>str</td><td>str</td><td>str</td><td>str</td><td>str</td><td>str</td><td>str</td><td>str</td><td>str</td><td>str</td><td>str</td><td>str</td><td>str</td><td>str</td><td>str</td><td>str</td><td>str</td><td>str</td><td>str</td><td>str</td><td>str</td><td>str</td><td>str</td><td>str</td><td>str</td></tr></thead><tbody><tr><td>0</td><td>1</td><td>1</td><td>5</td><td>0</td><td>1382</td><td>4</td><td>15</td><td>2</td><td>181</td><td>1</td><td>2</td><td>null</td><td>2</td><td>&quot;68fd1e64&quot;</td><td>&quot;80e26c9b&quot;</td><td>&quot;fb936136&quot;</td><td>&quot;7b4723c4&quot;</td><td>&quot;25c83c98&quot;</td><td>&quot;7e0ccccf&quot;</td><td>&quot;de7995b8&quot;</td><td>&quot;1f89b562&quot;</td><td>&quot;a73ee510&quot;</td><td>&quot;a8cd5504&quot;</td><td>&quot;b2cb9c98&quot;</td><td>&quot;37c9c164&quot;</td><td>&quot;2824a5f6&quot;</td><td>&quot;1adce6ef&quot;</td><td>&quot;8ba8b39a&quot;</td><td>&quot;891b62e7&quot;</td><td>&quot;e5ba7672&quot;</td><td>&quot;f54016b9&quot;</td><td>&quot;21ddcdc9&quot;</td><td>&quot;b1252a9d&quot;</td><td>&quot;07b5194c&quot;</td><td>null</td><td>&quot;3a171ecb&quot;</td><td>&quot;c5c50484&quot;</td><td>&quot;e8b83407&quot;</td><td>&quot;9727dd16&quot;</td></tr><tr><td>0</td><td>2</td><td>0</td><td>44</td><td>1</td><td>102</td><td>8</td><td>2</td><td>2</td><td>4</td><td>1</td><td>1</td><td>null</td><td>4</td><td>&quot;68fd1e64&quot;</td><td>&quot;f0cf0024&quot;</td><td>&quot;6f67f7e5&quot;</td><td>&quot;41274cd7&quot;</td><td>&quot;25c83c98&quot;</td><td>&quot;fe6b92e5&quot;</td><td>&quot;922afcc0&quot;</td><td>&quot;0b153874&quot;</td><td>&quot;a73ee510&quot;</td><td>&quot;2b53e5fb&quot;</td><td>&quot;4f1b46f3&quot;</td><td>&quot;623049e6&quot;</td><td>&quot;d7020589&quot;</td><td>&quot;b28479f6&quot;</td><td>&quot;e6c5b5cd&quot;</td><td>&quot;c92f3b61&quot;</td><td>&quot;07c540c4&quot;</td><td>&quot;b04e4670&quot;</td><td>&quot;21ddcdc9&quot;</td><td>&quot;5840adea&quot;</td><td>&quot;60f6221e&quot;</td><td>null</td><td>&quot;3a171ecb&quot;</td><td>&quot;43f13e8b&quot;</td><td>&quot;e8b83407&quot;</td><td>&quot;731c3655&quot;</td></tr><tr><td>0</td><td>2</td><td>0</td><td>1</td><td>14</td><td>767</td><td>89</td><td>4</td><td>2</td><td>245</td><td>1</td><td>3</td><td>3</td><td>45</td><td>&quot;287e684f&quot;</td><td>&quot;0a519c5c&quot;</td><td>&quot;02cf9876&quot;</td><td>&quot;c18be181&quot;</td><td>&quot;25c83c98&quot;</td><td>&quot;7e0ccccf&quot;</td><td>&quot;c78204a1&quot;</td><td>&quot;0b153874&quot;</td><td>&quot;a73ee510&quot;</td><td>&quot;3b08e48b&quot;</td><td>&quot;5f5e6091&quot;</td><td>&quot;8fe001f4&quot;</td><td>&quot;aa655a2f&quot;</td><td>&quot;07d13a8f&quot;</td><td>&quot;6dc710ed&quot;</td><td>&quot;36103458&quot;</td><td>&quot;8efede7f&quot;</td><td>&quot;3412118d&quot;</td><td>null</td><td>null</td><td>&quot;e587c466&quot;</td><td>&quot;ad3062eb&quot;</td><td>&quot;3a171ecb&quot;</td><td>&quot;3b183c5c&quot;</td><td>null</td><td>null</td></tr><tr><td>0</td><td>null</td><td>893</td><td>null</td><td>null</td><td>4392</td><td>null</td><td>0</td><td>0</td><td>0</td><td>null</td><td>0</td><td>null</td><td>null</td><td>&quot;68fd1e64&quot;</td><td>&quot;2c16a946&quot;</td><td>&quot;a9a87e68&quot;</td><td>&quot;2e17d6f6&quot;</td><td>&quot;25c83c98&quot;</td><td>&quot;fe6b92e5&quot;</td><td>&quot;2e8a689b&quot;</td><td>&quot;0b153874&quot;</td><td>&quot;a73ee510&quot;</td><td>&quot;efea433b&quot;</td><td>&quot;e51ddf94&quot;</td><td>&quot;a30567ca&quot;</td><td>&quot;3516f6e6&quot;</td><td>&quot;07d13a8f&quot;</td><td>&quot;18231224&quot;</td><td>&quot;52b8680f&quot;</td><td>&quot;1e88c74f&quot;</td><td>&quot;74ef3502&quot;</td><td>null</td><td>null</td><td>&quot;6b3a5ca6&quot;</td><td>null</td><td>&quot;3a171ecb&quot;</td><td>&quot;9117a34a&quot;</td><td>null</td><td>null</td></tr><tr><td>0</td><td>3</td><td>-1</td><td>null</td><td>0</td><td>2</td><td>0</td><td>3</td><td>0</td><td>0</td><td>1</td><td>1</td><td>null</td><td>0</td><td>&quot;8cf07265&quot;</td><td>&quot;ae46a29d&quot;</td><td>&quot;c81688bb&quot;</td><td>&quot;f922efad&quot;</td><td>&quot;25c83c98&quot;</td><td>&quot;13718bbd&quot;</td><td>&quot;ad9fa255&quot;</td><td>&quot;0b153874&quot;</td><td>&quot;a73ee510&quot;</td><td>&quot;5282c137&quot;</td><td>&quot;e5d8af57&quot;</td><td>&quot;66a76a26&quot;</td><td>&quot;f06c53ac&quot;</td><td>&quot;1adce6ef&quot;</td><td>&quot;8ff4b403&quot;</td><td>&quot;01adbab4&quot;</td><td>&quot;1e88c74f&quot;</td><td>&quot;26b3c7a7&quot;</td><td>null</td><td>null</td><td>&quot;21c9516a&quot;</td><td>null</td><td>&quot;32c7478e&quot;</td><td>&quot;b34f3128&quot;</td><td>null</td><td>null</td></tr></tbody></table></div>"
      ],
      "text/plain": [
       "shape: (5, 40)\n",
       "┌───────┬──────┬─────┬──────┬───┬──────────┬──────────┬──────────┬──────────┐\n",
       "│ label ┆ I_1  ┆ I_2 ┆ I_3  ┆ … ┆ C_23     ┆ C_24     ┆ C_25     ┆ C_26     │\n",
       "│ ---   ┆ ---  ┆ --- ┆ ---  ┆   ┆ ---      ┆ ---      ┆ ---      ┆ ---      │\n",
       "│ i64   ┆ i64  ┆ i64 ┆ i64  ┆   ┆ str      ┆ str      ┆ str      ┆ str      │\n",
       "╞═══════╪══════╪═════╪══════╪═══╪══════════╪══════════╪══════════╪══════════╡\n",
       "│ 0     ┆ 1    ┆ 1   ┆ 5    ┆ … ┆ 3a171ecb ┆ c5c50484 ┆ e8b83407 ┆ 9727dd16 │\n",
       "│ 0     ┆ 2    ┆ 0   ┆ 44   ┆ … ┆ 3a171ecb ┆ 43f13e8b ┆ e8b83407 ┆ 731c3655 │\n",
       "│ 0     ┆ 2    ┆ 0   ┆ 1    ┆ … ┆ 3a171ecb ┆ 3b183c5c ┆ null     ┆ null     │\n",
       "│ 0     ┆ null ┆ 893 ┆ null ┆ … ┆ 3a171ecb ┆ 9117a34a ┆ null     ┆ null     │\n",
       "│ 0     ┆ 3    ┆ -1  ┆ null ┆ … ┆ 32c7478e ┆ b34f3128 ┆ null     ┆ null     │\n",
       "└───────┴──────┴─────┴──────┴───┴──────────┴──────────┴──────────┴──────────┘"
      ]
     },
     "execution_count": 27,
     "metadata": {},
     "output_type": "execute_result"
    }
   ],
   "source": [
    "df.head()"
   ]
  },
  {
   "cell_type": "code",
   "execution_count": 28,
   "id": "62f345d8-2beb-47cd-8986-18099bb7bd5e",
   "metadata": {},
   "outputs": [
    {
     "data": {
      "text/plain": [
       "array([32088432,  6876093,  6876093], dtype=int32)"
      ]
     },
     "execution_count": 28,
     "metadata": {},
     "output_type": "execute_result"
    }
   ],
   "source": [
    "split_sizes = np.rint(np.array(split_fractions) * len(df)).astype(np.int32)\n",
    "split_sizes"
   ]
  },
  {
   "cell_type": "code",
   "execution_count": 29,
   "id": "7949ff44-1339-423d-bbdc-e58124e97967",
   "metadata": {},
   "outputs": [],
   "source": [
    "train_df = df.head(split_sizes[0])\n",
    "remain_df = df.tail(-split_sizes[0])\n",
    "valid_df = remain_df.head(split_sizes[1])\n",
    "test_df = remain_df.tail(-split_sizes[1])"
   ]
  },
  {
   "cell_type": "code",
   "execution_count": 164,
   "id": "10bbc3c2-f184-4557-a846-30ac81c691c9",
   "metadata": {},
   "outputs": [
    {
     "data": {
      "text/plain": [
       "[<matplotlib.lines.Line2D at 0x7f48d8ce5d60>]"
      ]
     },
     "execution_count": 164,
     "metadata": {},
     "output_type": "execute_result"
    },
    {
     "data": {
      "image/png": "[encoded data removed]",
      "text/plain": [
       "<Figure size 432x288 with 1 Axes>"
      ]
     },
     "metadata": {
      "needs_background": "light"
     },
     "output_type": "display_data"
    }
   ],
   "source": [
    "data = df['I_1']\n",
    "data = data.filter(data >= 0).to_numpy()\n",
    "n = len(data)\n",
    "shape = 0.1\n",
    "def deriv_log_likelihood(scale):\n",
    "    return (1 + shape) / scale * np.sum(data / (data + scale))\n",
    "\n",
    "xs = np.linspace(0.1, 3, 50)\n",
    "ys = np.zeros(xs.shape)\n",
    "for i in range(len(xs)):\n",
    "    ys[i] = deriv_log_likelihood(xs[i])\n",
    "plt.plot(xs, ys)"
   ]
  },
  {
   "cell_type": "code",
   "execution_count": 169,
   "id": "398e10d7-a6a5-485e-99d8-bbac0d9fc75f",
   "metadata": {},
   "outputs": [],
   "source": [
    "class IntColumnScaler:\n",
    "    def __init__(self, at_least=0):\n",
    "        self.at_least = at_least\n",
    "        \n",
    "    def fit(self, col):\n",
    "        n = len(col)\n",
    "        mean = np.mean(col)\n",
    "        sum_squares = np.sum(np.square(col))\n",
    "        self.lomax_shape_ =  (2 * n * mean * mean) / (sum_squares) + 2\n",
    "        self.lomax_scale_ = mean * (self.lomax_shape_ - 1)\n",
    "        return self\n",
    "\n",
    "    def transform(self, col):\n",
    "        return 1 - np.power(1 + col / self.lomax_scale_, -self.lomax_shape_)"
   ]
  },
  {
   "cell_type": "code",
   "execution_count": 171,
   "id": "a9aca46a-3116-4760-b727-8b1668d93654",
   "metadata": {},
   "outputs": [
    {
     "name": "stdout",
     "output_type": "stream",
     "text": [
      "I_1\n",
      "4.368849709215662 2.2396276313029446\n",
      "I_2\n",
      "136.29393823004406 2.1520177359510866\n",
      "I_3\n",
      "26.115793163833604 2.0103290463114676\n",
      "I_4\n",
      "13.362654326757466 2.820354709661715\n",
      "I_5\n",
      "21304.159617904847 2.1345792541860207\n",
      "I_6\n",
      "137.01920075890757 2.1771753256125908\n",
      "I_7\n",
      "17.808791197256937 2.1153740545447453\n",
      "I_8\n",
      "21.3419263724802 2.704906500004165\n",
      "I_9\n",
      "142.58315104207986 2.372791817165483\n",
      "I_10\n",
      "1.1941467312167837 2.910272200711778\n",
      "I_11\n",
      "3.8068101927741105 2.425740419221825\n",
      "I_12\n",
      "1.0187285972795994 2.0618455018789916\n",
      "I_13\n",
      "11.497717697679802 2.3971154559986383\n"
     ]
    },
    {
     "data": {
      "image/png": "[encoded data removed]",
      "text/plain": [
       "<Figure size 1080x648 with 15 Axes>"
      ]
     },
     "metadata": {
      "needs_background": "light"
     },
     "output_type": "display_data"
    }
   ],
   "source": [
    "fig, axs = plt.subplots(3, 5, figsize=(15, 9))\n",
    "for ax, col_name in zip(axs.ravel(), int_cols):\n",
    "    col = train_df[col_name]\n",
    "    col = col.filter(col >= 0).to_numpy()\n",
    "    scaled = IntColumnScaler().fit(col).transform(col)\n",
    "    ax.hist(scaled, bins=30, density=True)\n",
    "    ax.set_title(col_name)"
   ]
  },
  {
   "cell_type": "code",
   "execution_count": null,
   "id": "2858a260-2727-4237-ba1f-3812f2bfa150",
   "metadata": {},
   "outputs": [],
   "source": [
    "class SplineTransformer:\n",
    "    def __init__(self, at_least=0, degree=3, n_knots=20):\n",
    "        self.at_least = 0\n",
    "        self.scaler = IntColumnScaler(at_least)\n",
    "        self.degree = degree\n",
    "        self.knots = np.pad(np.linspace(0, 1, n_knots), degree, 'edge')\n",
    "    \n",
    "    def get_discrete_(self, col):\n",
    "        return col.filter((col < self.at_least) | (col.is_null()))\n",
    "    \n",
    "    def get_continuous_mask_(self, col):\n",
    "        return (col >= self.at_least).fill_null(False)\n",
    "\n",
    "    def get_continuous_(self, col):\n",
    "        return col.filter(col >= self.at_least)\n",
    "    \n",
    "    def fit(self, col):\n",
    "        self.discrete_keys_ = self.get_discrete_(col).extend_constant(None, 1).unique().to_list()\n",
    "        self.discrete_values_ = list(range(len(self.discrete_keys_)))\n",
    "        self.n_discrete_ = len(self.discrete_keys_)\n",
    "        self.scaler.fit(self.get_continuous_(col))  \n",
    "        return self\n",
    "    \n",
    "    def transform(self, col):\n",
    "        discrete = self.get_discrete_(col).replace_strict(\n",
    "            old=self.discrete_keys_, \n",
    "            new=self.discrete_values_,\n",
    "            default=0)\n",
    "        discrete = torch.as_tensor(discrete.to_numpy()).to(torch.int32)\n",
    "        \n",
    "        scaled = self.scaler.transform(self.get_continuous_(col).to_numpy())\n",
    "        spline_basis = BSpline.design_matrix(scaled, self.knots, self.degree) \\\n",
    "            .astype(np.float32)\n",
    "        spline_indices = torch.tensor(spline_basis.indices.reshape(-1, 1 + self.degree))\n",
    "        spline_weights = torch.tensor(spline_basis.data.reshape(-1, 1 + self.degree))\n",
    "        \n",
    "        indices = torch.zeros(len(col), spline_weights.shape[1], dtype=torch.int32)\n",
    "        weights = torch.zeros(len(col), spline_weights.shape[1], dtype=torch.float32)\n",
    "        continuous_mask = torch.as_tensor(self.get_continuous_mask_(col).to_numpy(writable=True))\n",
    "        \n",
    "        indices.masked_scatter_(continuous_mask[:, None], spline_indices + self.n_discrete_)\n",
    "        weights.masked_scatter_(continuous_mask[:, None], spline_weights)\n",
    "        indices.select(-1, 0).masked_scatter_(~continuous_mask, discrete)\n",
    "        weights.select(-1, 0).masked_fill_(~continuous_mask, 1.)\n",
    "        \n",
    "        return indices, weights, (len(self.discrete_keys_) + len(self.knots) - self.degree + 1)"
   ]
  },
  {
   "cell_type": "code",
   "execution_count": 195,
   "id": "947539cc-7d46-4c62-b91d-640206f375fc",
   "metadata": {},
   "outputs": [],
   "source": [
    "class IntTransformer:\n",
    "    def fit(self, col):\n",
    "        max_val = col.max()\n",
    "        self.max_bin_ = int(math.floor(math.log(max_val) ** 2))\n",
    "        self.min_ = col.min()\n",
    "        return self\n",
    "    \n",
    "    def transform(self, col):\n",
    "        pos_mask = (col > 0).fill_null(False)\n",
    "        neg_mask = (col <= 0).fill_null(False)\n",
    "        \n",
    "        pos = col.filter(pos_mask).to_numpy()\n",
    "        pos_bins = np.floor(np.square(np.log(pos))).astype(np.int32)\n",
    "        pos_bins = 1 + np.clip(pos_bins, a_min=None, a_max=self.max_bin_) - self.min_\n",
    "        \n",
    "        neg = col.filter(neg_mask).to_numpy().astype(np.int32)\n",
    "        neg_bins = 1 + np.clip(neg, a_min=self.min_, a_max=None) - self.min_\n",
    "        \n",
    "        pos_mask = torch.as_tensor(pos_mask.to_numpy())\n",
    "        neg_mask = torch.as_tensor(neg_mask.to_numpy())\n",
    "        pos_bins = torch.as_tensor(pos_bins)\n",
    "        neg_bins = torch.as_tensor(neg_bins)\n",
    "        \n",
    "        indices = torch.zeros(len(col), dtype=torch.int32)\n",
    "        indices.masked_scatter_(pos_mask, pos_bins)\n",
    "        indices.masked_scatter_(neg_mask, neg_bins)\n",
    "        indices = indices.reshape(-1, 1)\n",
    "        weights = torch.ones(len(col), 1, dtype=torch.float32)\n",
    "\n",
    "        return indices, weights, (2 + self.max_bin_ - self.min_)"
   ]
  },
  {
   "cell_type": "code",
   "execution_count": 228,
   "id": "3b9795cc-31f5-4592-9310-a5adee473712",
   "metadata": {},
   "outputs": [],
   "source": [
    "class CatTransformer:\n",
    "    infrequent = 'INFREQUENT'\n",
    "    na = 'MISSING'\n",
    "\n",
    "    def __init__(self, min_frequency=10):\n",
    "        self.min_frequency = min_frequency\n",
    "\n",
    "    def fit(self, col):\n",
    "        col = col.fill_null(self.na)\n",
    "        vcs = col.value_counts()\n",
    "        frequent = vcs.filter(pl.col('count') >= self.min_frequency)[col.name]\n",
    "        self.frequent_cats_ = list(set(frequent) | {self.infrequent, self.na})\n",
    "        self.frequent_cat_idx_ = list(range(len(self.frequent_cats_)))\n",
    "        return self\n",
    "\n",
    "    def transform(self, col):\n",
    "        col = col.fill_null(self.na)\n",
    "        col[~col.is_in(self.frequent_cats_)] = self.infrequent\n",
    "        ordinal = col.replace_strict(self.frequent_cats_, self.frequent_cat_idx_)\n",
    "        \n",
    "        indices = torch.as_tensor(ordinal.to_numpy().astype(np.int32)).reshape(-1, 1)\n",
    "        weights = torch.ones(len(col), 1, dtype=torch.float32)\n",
    "        cnt = len(self.frequent_cats_)\n",
    "        return indices, weights, cnt"
   ]
  },
  {
   "cell_type": "code",
   "execution_count": null,
   "id": "51d8e108-5ffb-4b11-aa38-9486c5f12546",
   "metadata": {},
   "outputs": [],
   "source": []
  }
 ],
 "metadata": {
  "kernelspec": {
   "display_name": "Python 3 (ipykernel)",
   "language": "python",
   "name": "python3"
  },
  "language_info": {
   "codemirror_mode": {
    "name": "ipython",
    "version": 3
   },
   "file_extension": ".py",
   "mimetype": "text/x-python",
   "name": "python",
   "nbconvert_exporter": "python",
   "pygments_lexer": "ipython3",
   "version": "3.9.6"
  },
  "widgets": {
   "application/vnd.jupyter.widget-state+json": {
    "state": {},
    "version_major": 2,
    "version_minor": 0
   }
  }
 },
 "nbformat": 4,
 "nbformat_minor": 5
}
