{
 "cells": [
  {
   "cell_type": "code",
   "execution_count": null,
   "id": "043b0694-5756-465f-8958-c959461ae78e",
   "metadata": {},
   "outputs": [],
   "source": [
    "import optuna\n",
    "import matplotlib.pyplot as plt\n",
    "import pandas as pd"
   ]
  },
  {
   "cell_type": "code",
   "execution_count": null,
   "id": "9c98be39-3731-446d-8bec-311ca25dbca5",
   "metadata": {},
   "outputs": [],
   "source": [
    "def load_study(study_name):\n",
    "    journal_name = f'{study_name}.log'\n",
    "    study_storage = optuna.storages.JournalStorage(\n",
    "        optuna.storages.JournalFileStorage(journal_name)) \n",
    "    study = optuna.create_study(study_name=study_name,\n",
    "                                storage=study_storage,\n",
    "                                direction='minimize',\n",
    "                                load_if_exists=True)\n",
    "    return study"
   ]
  },
  {
   "cell_type": "code",
   "execution_count": null,
   "id": "09821adc-6bd2-4511-818f-bd8beab6ec24",
   "metadata": {},
   "outputs": [],
   "source": [
    "trials_df = []\n",
    "for study_name in ['criteo_bins', 'criteo_splines_0', 'criteo_splines_3']:\n",
    "    study = load_study(study_name)\n",
    "    print(f'Study {study_name} has {len(study.trials)} trials')\n",
    "\n",
    "    trial_data = [trial.params | trial.user_attrs | dict(val_loss=trial.value, study_name=study_name)\n",
    "                  for trial in [study.best_trial]]\n",
    "    trial_data_df = pd.DataFrame.from_records(trial_data)\n",
    "    trials_df.append(trial_data_df)\n",
    "\n",
    "trials_df = pd.concat(trials_df, axis=0)\n",
    "trials_df"
   ]
  },
  {
   "cell_type": "code",
   "execution_count": null,
   "id": "7d386173-6bb4-49b7-a6a1-f242f7a2ff67",
   "metadata": {},
   "outputs": [],
   "source": [
    "pivoted = trials_df[['study_name', 'test_loss']].pivot(columns=['study_name'], values=['test_loss'])\n",
    "pivoted"
   ]
  },
  {
   "cell_type": "code",
   "execution_count": null,
   "id": "72f16f47-8d84-406e-867a-88fa118e750f",
   "metadata": {},
   "outputs": [],
   "source": [
    "lift_pct = (100 * (1 - pivoted.iloc[:, 1:] / pivoted.iloc[:, 0].values.item()))\n",
    "lift_pct"
   ]
  },
  {
   "cell_type": "code",
   "execution_count": null,
   "id": "1210ca8d-5650-4610-bf13-40fa8766c123",
   "metadata": {},
   "outputs": [],
   "source": []
  }
 ],
 "metadata": {
  "kernelspec": {
   "display_name": "Python 3 (ipykernel)",
   "language": "python",
   "name": "python3"
  },
  "language_info": {
   "codemirror_mode": {
    "name": "ipython",
    "version": 3
   },
   "file_extension": ".py",
   "mimetype": "text/x-python",
   "name": "python",
   "nbconvert_exporter": "python",
   "pygments_lexer": "ipython3",
   "version": "3.9.6"
  },
  "widgets": {
   "application/vnd.jupyter.widget-state+json": {
    "state": {},
    "version_major": 2,
    "version_minor": 0
   }
  }
 },
 "nbformat": 4,
 "nbformat_minor": 5
}
