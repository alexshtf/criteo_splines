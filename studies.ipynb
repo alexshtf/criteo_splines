{
 "cells": [
  {
   "cell_type": "code",
   "execution_count": 15,
   "id": "043b0694-5756-465f-8958-c959461ae78e",
   "metadata": {},
   "outputs": [],
   "source": [
    "import optuna\n",
    "import matplotlib.pyplot as plt\n",
    "import pandas as pd"
   ]
  },
  {
   "cell_type": "code",
   "execution_count": 16,
   "id": "9c98be39-3731-446d-8bec-311ca25dbca5",
   "metadata": {},
   "outputs": [],
   "source": [
    "def load_study(study_name):\n",
    "    journal_name = f'{study_name}.log'\n",
    "    study_storage = optuna.storages.JournalStorage(\n",
    "        optuna.storages.JournalFileStorage(journal_name)) \n",
    "    study = optuna.create_study(study_name=study_name,\n",
    "                                storage=study_storage,\n",
    "                                direction='minimize',\n",
    "                                load_if_exists=True)\n",
    "    return study"
   ]
  },
  {
   "cell_type": "code",
   "execution_count": 17,
   "id": "09821adc-6bd2-4511-818f-bd8beab6ec24",
   "metadata": {},
   "outputs": [
    {
     "name": "stderr",
     "output_type": "stream",
     "text": [
      "/tmp/ipykernel_3537975/1949951846.py:3: ExperimentalWarning: JournalStorage is experimental (supported from v3.1.0). The interface can change in the future.\n",
      "  study_storage = optuna.storages.JournalStorage(\n",
      "[I 2024-04-01 07:42:11,366] Using an existing study with name 'criteo_0_8' instead of creating a new one.\n"
     ]
    },
    {
     "name": "stdout",
     "output_type": "stream",
     "text": [
      "Study criteo_0_8 has 50 trials\n"
     ]
    },
    {
     "name": "stderr",
     "output_type": "stream",
     "text": [
      "[I 2024-04-01 07:42:11,404] Using an existing study with name 'criteo_0_10' instead of creating a new one.\n",
      "[I 2024-04-01 07:42:11,439] Using an existing study with name 'criteo_0_12' instead of creating a new one.\n",
      "[I 2024-04-01 07:42:11,464] Using an existing study with name 'criteo_0_14' instead of creating a new one.\n",
      "[I 2024-04-01 07:42:11,487] Using an existing study with name 'criteo_0_16' instead of creating a new one.\n",
      "[I 2024-04-01 07:42:11,511] Using an existing study with name 'criteo_0_18' instead of creating a new one.\n",
      "[I 2024-04-01 07:42:11,535] Using an existing study with name 'criteo_2_8' instead of creating a new one.\n"
     ]
    },
    {
     "name": "stdout",
     "output_type": "stream",
     "text": [
      "Study criteo_0_10 has 50 trials\n",
      "Study criteo_0_12 has 50 trials\n",
      "Study criteo_0_14 has 50 trials\n",
      "Study criteo_0_16 has 50 trials\n",
      "Study criteo_0_18 has 50 trials\n"
     ]
    },
    {
     "name": "stderr",
     "output_type": "stream",
     "text": [
      "[I 2024-04-01 07:42:11,577] Using an existing study with name 'criteo_2_10' instead of creating a new one.\n"
     ]
    },
    {
     "name": "stdout",
     "output_type": "stream",
     "text": [
      "Study criteo_2_8 has 50 trials\n"
     ]
    },
    {
     "name": "stderr",
     "output_type": "stream",
     "text": [
      "[I 2024-04-01 07:42:11,608] Using an existing study with name 'criteo_2_12' instead of creating a new one.\n"
     ]
    },
    {
     "name": "stdout",
     "output_type": "stream",
     "text": [
      "Study criteo_2_10 has 50 trials\n",
      "Study criteo_2_12 has 50 trials\n"
     ]
    },
    {
     "name": "stderr",
     "output_type": "stream",
     "text": [
      "[I 2024-04-01 07:42:11,634] Using an existing study with name 'criteo_2_14' instead of creating a new one.\n",
      "[I 2024-04-01 07:42:11,660] Using an existing study with name 'criteo_2_16' instead of creating a new one.\n",
      "[I 2024-04-01 07:42:11,686] Using an existing study with name 'criteo_2_18' instead of creating a new one.\n"
     ]
    },
    {
     "name": "stdout",
     "output_type": "stream",
     "text": [
      "Study criteo_2_14 has 50 trials\n",
      "Study criteo_2_16 has 50 trials\n",
      "Study criteo_2_18 has 50 trials\n"
     ]
    },
    {
     "data": {
      "text/html": [
       "<div>\n",
       "<style scoped>\n",
       "    .dataframe tbody tr th:only-of-type {\n",
       "        vertical-align: middle;\n",
       "    }\n",
       "\n",
       "    .dataframe tbody tr th {\n",
       "        vertical-align: top;\n",
       "    }\n",
       "\n",
       "    .dataframe thead th {\n",
       "        text-align: right;\n",
       "    }\n",
       "</style>\n",
       "<table border=\"1\" class=\"dataframe\">\n",
       "  <thead>\n",
       "    <tr style=\"text-align: right;\">\n",
       "      <th></th>\n",
       "      <th>lr</th>\n",
       "      <th>l2reg</th>\n",
       "      <th>emb_dim</th>\n",
       "      <th>random_seed</th>\n",
       "      <th>degree</th>\n",
       "      <th>best_epoch</th>\n",
       "      <th>test_loss</th>\n",
       "      <th>val_loss</th>\n",
       "    </tr>\n",
       "  </thead>\n",
       "  <tbody>\n",
       "    <tr>\n",
       "      <th>0</th>\n",
       "      <td>0.000184</td>\n",
       "      <td>0.000006</td>\n",
       "      <td>8</td>\n",
       "      <td>42</td>\n",
       "      <td>0</td>\n",
       "      <td>19</td>\n",
       "      <td>0.443116</td>\n",
       "      <td>0.443119</td>\n",
       "    </tr>\n",
       "    <tr>\n",
       "      <th>0</th>\n",
       "      <td>0.000257</td>\n",
       "      <td>0.000008</td>\n",
       "      <td>10</td>\n",
       "      <td>42</td>\n",
       "      <td>0</td>\n",
       "      <td>19</td>\n",
       "      <td>0.443004</td>\n",
       "      <td>0.443030</td>\n",
       "    </tr>\n",
       "    <tr>\n",
       "      <th>0</th>\n",
       "      <td>0.000184</td>\n",
       "      <td>0.000006</td>\n",
       "      <td>12</td>\n",
       "      <td>42</td>\n",
       "      <td>0</td>\n",
       "      <td>15</td>\n",
       "      <td>0.442669</td>\n",
       "      <td>0.442590</td>\n",
       "    </tr>\n",
       "    <tr>\n",
       "      <th>0</th>\n",
       "      <td>0.000184</td>\n",
       "      <td>0.000006</td>\n",
       "      <td>14</td>\n",
       "      <td>42</td>\n",
       "      <td>0</td>\n",
       "      <td>14</td>\n",
       "      <td>0.442581</td>\n",
       "      <td>0.442530</td>\n",
       "    </tr>\n",
       "    <tr>\n",
       "      <th>0</th>\n",
       "      <td>0.000184</td>\n",
       "      <td>0.000006</td>\n",
       "      <td>16</td>\n",
       "      <td>42</td>\n",
       "      <td>0</td>\n",
       "      <td>14</td>\n",
       "      <td>0.442496</td>\n",
       "      <td>0.442502</td>\n",
       "    </tr>\n",
       "    <tr>\n",
       "      <th>0</th>\n",
       "      <td>0.000201</td>\n",
       "      <td>0.000009</td>\n",
       "      <td>18</td>\n",
       "      <td>42</td>\n",
       "      <td>0</td>\n",
       "      <td>19</td>\n",
       "      <td>0.442454</td>\n",
       "      <td>0.442413</td>\n",
       "    </tr>\n",
       "    <tr>\n",
       "      <th>0</th>\n",
       "      <td>0.000184</td>\n",
       "      <td>0.000006</td>\n",
       "      <td>8</td>\n",
       "      <td>42</td>\n",
       "      <td>2</td>\n",
       "      <td>19</td>\n",
       "      <td>0.443034</td>\n",
       "      <td>0.442965</td>\n",
       "    </tr>\n",
       "    <tr>\n",
       "      <th>0</th>\n",
       "      <td>0.000184</td>\n",
       "      <td>0.000006</td>\n",
       "      <td>10</td>\n",
       "      <td>42</td>\n",
       "      <td>2</td>\n",
       "      <td>15</td>\n",
       "      <td>0.442716</td>\n",
       "      <td>0.442686</td>\n",
       "    </tr>\n",
       "    <tr>\n",
       "      <th>0</th>\n",
       "      <td>0.000184</td>\n",
       "      <td>0.000006</td>\n",
       "      <td>12</td>\n",
       "      <td>42</td>\n",
       "      <td>2</td>\n",
       "      <td>15</td>\n",
       "      <td>0.442533</td>\n",
       "      <td>0.442447</td>\n",
       "    </tr>\n",
       "    <tr>\n",
       "      <th>0</th>\n",
       "      <td>0.000184</td>\n",
       "      <td>0.000006</td>\n",
       "      <td>14</td>\n",
       "      <td>42</td>\n",
       "      <td>2</td>\n",
       "      <td>15</td>\n",
       "      <td>0.442345</td>\n",
       "      <td>0.442320</td>\n",
       "    </tr>\n",
       "    <tr>\n",
       "      <th>0</th>\n",
       "      <td>0.000184</td>\n",
       "      <td>0.000006</td>\n",
       "      <td>16</td>\n",
       "      <td>42</td>\n",
       "      <td>2</td>\n",
       "      <td>14</td>\n",
       "      <td>0.442204</td>\n",
       "      <td>0.442103</td>\n",
       "    </tr>\n",
       "    <tr>\n",
       "      <th>0</th>\n",
       "      <td>0.000184</td>\n",
       "      <td>0.000006</td>\n",
       "      <td>18</td>\n",
       "      <td>42</td>\n",
       "      <td>2</td>\n",
       "      <td>14</td>\n",
       "      <td>0.442279</td>\n",
       "      <td>0.442190</td>\n",
       "    </tr>\n",
       "  </tbody>\n",
       "</table>\n",
       "</div>"
      ],
      "text/plain": [
       "         lr     l2reg  emb_dim  random_seed  degree  best_epoch  test_loss  \\\n",
       "0  0.000184  0.000006        8           42       0          19   0.443116   \n",
       "0  0.000257  0.000008       10           42       0          19   0.443004   \n",
       "0  0.000184  0.000006       12           42       0          15   0.442669   \n",
       "0  0.000184  0.000006       14           42       0          14   0.442581   \n",
       "0  0.000184  0.000006       16           42       0          14   0.442496   \n",
       "0  0.000201  0.000009       18           42       0          19   0.442454   \n",
       "0  0.000184  0.000006        8           42       2          19   0.443034   \n",
       "0  0.000184  0.000006       10           42       2          15   0.442716   \n",
       "0  0.000184  0.000006       12           42       2          15   0.442533   \n",
       "0  0.000184  0.000006       14           42       2          15   0.442345   \n",
       "0  0.000184  0.000006       16           42       2          14   0.442204   \n",
       "0  0.000184  0.000006       18           42       2          14   0.442279   \n",
       "\n",
       "   val_loss  \n",
       "0  0.443119  \n",
       "0  0.443030  \n",
       "0  0.442590  \n",
       "0  0.442530  \n",
       "0  0.442502  \n",
       "0  0.442413  \n",
       "0  0.442965  \n",
       "0  0.442686  \n",
       "0  0.442447  \n",
       "0  0.442320  \n",
       "0  0.442103  \n",
       "0  0.442190  "
      ]
     },
     "execution_count": 17,
     "metadata": {},
     "output_type": "execute_result"
    }
   ],
   "source": [
    "degrees = [0, 2]\n",
    "dims = [8, 10, 12, 14, 16, 18]\n",
    "\n",
    "trials_df = []\n",
    "for deg in degrees:\n",
    "    for dim in dims:\n",
    "        study_name = f'criteo_{deg}_{dim}'\n",
    "        study = load_study(study_name)\n",
    "        print(f'Study {study_name} has {len(study.trials)} trials')\n",
    "        \n",
    "        trial_data = [trial.params | trial.user_attrs | dict(val_loss=trial.value) \n",
    "                      for trial in [study.best_trial]]\n",
    "        trial_data_df = pd.DataFrame.from_records(trial_data)\n",
    "        trials_df.append(trial_data_df)\n",
    "\n",
    "trials_df = pd.concat(trials_df, axis=0)\n",
    "trials_df"
   ]
  },
  {
   "cell_type": "code",
   "execution_count": 18,
   "id": "7d386173-6bb4-49b7-a6a1-f242f7a2ff67",
   "metadata": {},
   "outputs": [],
   "source": [
    "pivoted = trials_df[['emb_dim', 'degree', 'test_loss']].pivot(index=['emb_dim'], columns=['degree'], values=['test_loss'])"
   ]
  },
  {
   "cell_type": "code",
   "execution_count": 19,
   "id": "72f16f47-8d84-406e-867a-88fa118e750f",
   "metadata": {},
   "outputs": [],
   "source": [
    "lift_pct = (100 * (1 - pivoted['test_loss'][2] / pivoted['test_loss'][0])).to_frame()\n",
    "lift_pct.columns = pd.MultiIndex.from_tuples([('test_loss', 'Lift (%)')])"
   ]
  },
  {
   "cell_type": "code",
   "execution_count": 22,
   "id": "17ebd23f-d948-4e6c-b478-2313a4a70f45",
   "metadata": {},
   "outputs": [
    {
     "data": {
      "text/html": [
       "<div>\n",
       "<style scoped>\n",
       "    .dataframe tbody tr th:only-of-type {\n",
       "        vertical-align: middle;\n",
       "    }\n",
       "\n",
       "    .dataframe tbody tr th {\n",
       "        vertical-align: top;\n",
       "    }\n",
       "\n",
       "    .dataframe thead th {\n",
       "        text-align: right;\n",
       "    }\n",
       "</style>\n",
       "<table border=\"1\" class=\"dataframe\">\n",
       "  <thead>\n",
       "    <tr style=\"text-align: right;\">\n",
       "      <th></th>\n",
       "      <th>emb_dim</th>\n",
       "      <th>8</th>\n",
       "      <th>10</th>\n",
       "      <th>12</th>\n",
       "      <th>14</th>\n",
       "      <th>16</th>\n",
       "      <th>18</th>\n",
       "    </tr>\n",
       "  </thead>\n",
       "  <tbody>\n",
       "    <tr>\n",
       "      <th rowspan=\"3\" valign=\"top\">test_loss</th>\n",
       "      <th>0</th>\n",
       "      <td>0.443116</td>\n",
       "      <td>0.443004</td>\n",
       "      <td>0.442669</td>\n",
       "      <td>0.442581</td>\n",
       "      <td>0.442496</td>\n",
       "      <td>0.442454</td>\n",
       "    </tr>\n",
       "    <tr>\n",
       "      <th>2</th>\n",
       "      <td>0.443034</td>\n",
       "      <td>0.442716</td>\n",
       "      <td>0.442533</td>\n",
       "      <td>0.442345</td>\n",
       "      <td>0.442204</td>\n",
       "      <td>0.442279</td>\n",
       "    </tr>\n",
       "    <tr>\n",
       "      <th>Lift (%)</th>\n",
       "      <td>0.018648</td>\n",
       "      <td>0.065007</td>\n",
       "      <td>0.030623</td>\n",
       "      <td>0.053229</td>\n",
       "      <td>0.066111</td>\n",
       "      <td>0.039528</td>\n",
       "    </tr>\n",
       "  </tbody>\n",
       "</table>\n",
       "</div>"
      ],
      "text/plain": [
       "emb_dim                   8         10        12        14        16        18\n",
       "test_loss 0         0.443116  0.443004  0.442669  0.442581  0.442496  0.442454\n",
       "          2         0.443034  0.442716  0.442533  0.442345  0.442204  0.442279\n",
       "          Lift (%)  0.018648  0.065007  0.030623  0.053229  0.066111  0.039528"
      ]
     },
     "execution_count": 22,
     "metadata": {},
     "output_type": "execute_result"
    }
   ],
   "source": [
    "combined = pd.concat([pivoted, lift_pct], axis=1)\n",
    "combined.transpose()"
   ]
  },
  {
   "cell_type": "code",
   "execution_count": 23,
   "id": "3d05bd41-b0a7-4348-b759-11516fede405",
   "metadata": {},
   "outputs": [
    {
     "name": "stdout",
     "output_type": "stream",
     "text": [
      "\\begin{tabular}{llrrrrrr}\n",
      "\\toprule\n",
      " & emb_dim & 8 & 10 & 12 & 14 & 16 & 18 \\\\\n",
      "\\midrule\n",
      "\\multirow[c]{3}{*}{test_loss} & 0 & 0.4431 & 0.4430 & 0.4427 & 0.4426 & 0.4425 & 0.4425 \\\\\n",
      " & 2 & 0.4430 & 0.4427 & 0.4425 & 0.4423 & 0.4422 & 0.4423 \\\\\n",
      " & Lift (%) & 0.0186 & 0.0650 & 0.0306 & 0.0532 & 0.0661 & 0.0395 \\\\\n",
      "\\bottomrule\n",
      "\\end{tabular}\n",
      "\n"
     ]
    }
   ],
   "source": [
    "print(combined.transpose().style.format(precision=4).to_latex(hrules=True))"
   ]
  },
  {
   "cell_type": "code",
   "execution_count": null,
   "id": "1210ca8d-5650-4610-bf13-40fa8766c123",
   "metadata": {},
   "outputs": [],
   "source": []
  }
 ],
 "metadata": {
  "kernelspec": {
   "display_name": "Python 3 (ipykernel)",
   "language": "python",
   "name": "python3"
  },
  "language_info": {
   "codemirror_mode": {
    "name": "ipython",
    "version": 3
   },
   "file_extension": ".py",
   "mimetype": "text/x-python",
   "name": "python",
   "nbconvert_exporter": "python",
   "pygments_lexer": "ipython3",
   "version": "3.9.6"
  }
 },
 "nbformat": 4,
 "nbformat_minor": 5
}
