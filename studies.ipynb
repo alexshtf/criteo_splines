{
 "cells": [
  {
   "cell_type": "code",
   "execution_count": null,
   "id": "043b0694-5756-465f-8958-c959461ae78e",
   "metadata": {},
   "outputs": [],
   "source": [
    "import optuna\n",
    "import matplotlib.pyplot as plt\n",
    "import pandas as pd\n",
    "import numpy as np\n",
    "from glob import glob\n",
    "import re"
   ]
  },
  {
   "cell_type": "code",
   "execution_count": null,
   "id": "9c98be39-3731-446d-8bec-311ca25dbca5",
   "metadata": {},
   "outputs": [],
   "source": [
    "def load_study(study_name):\n",
    "    journal_name = f'{study_name}.log'\n",
    "    study_storage = optuna.storages.JournalStorage(\n",
    "        optuna.storages.JournalFileStorage(journal_name)) \n",
    "    for study in study_storage.get_all_studies():\n",
    "        study_name = study_storage.get_study_name_from_id(study._study_id)\n",
    "        break\n",
    "    study = optuna.study.load_study(study_name=study_name, storage=study_storage)\n",
    "    return study"
   ]
  },
  {
   "cell_type": "code",
   "execution_count": null,
   "id": "1b1b0d14-0a53-4023-be9c-88b39ec736ae",
   "metadata": {},
   "outputs": [],
   "source": [
    "def parse_studies(prefix='criteo_', suffix='.log', pattern='*.log'):\n",
    "    def helper():\n",
    "        for filename in glob('*.log'):\n",
    "            study_name = filename.removesuffix(suffix)\n",
    "            clean_name = study_name.removeprefix(prefix)\n",
    "            embed_dim_match = re.search('_([0-9]+)$', clean_name)\n",
    "            embed_dim = int(embed_dim_match.group(1))\n",
    "            exp_name = clean_name.removesuffix(embed_dim_match.group(0))\n",
    "            yield exp_name, embed_dim, study_name\n",
    "    return list(helper())"
   ]
  },
  {
   "cell_type": "code",
   "execution_count": null,
   "id": "5f63f60b-a847-46c9-b511-b1f20c9be0f0",
   "metadata": {},
   "outputs": [],
   "source": [
    "parse_studies()"
   ]
  },
  {
   "cell_type": "code",
   "execution_count": null,
   "id": "09821adc-6bd2-4511-818f-bd8beab6ec24",
   "metadata": {},
   "outputs": [],
   "source": [
    "trials_df = []\n",
    "for experiment, embed_dim, study_name in parse_studies():\n",
    "    study = load_study(study_name)\n",
    "    print(f'Study {study_name} has {len(study.trials)} trials')\n",
    "\n",
    "    trial_data = [trial.params | \n",
    "                  trial.user_attrs | \n",
    "                  dict(val_loss=trial.value, study_name=study_name, experiment=experiment, embed_dim=embed_dim)\n",
    "                  for trial in [study.best_trial]]\n",
    "    trial_data_df = pd.DataFrame.from_records(trial_data)\n",
    "    trials_df.append(trial_data_df)\n",
    "\n",
    "trials_df = pd.concat(trials_df, axis=0)\n",
    "trials_df"
   ]
  },
  {
   "cell_type": "code",
   "execution_count": null,
   "id": "4532f00f-f558-4c57-b0e0-51c0225d6962",
   "metadata": {},
   "outputs": [],
   "source": [
    "trials_df[['experiment', 'embed_dim', 'lr', 'l2reg']].pivot(columns=['experiment'], index='embed_dim', values=['lr', 'l2reg'])"
   ]
  },
  {
   "cell_type": "code",
   "execution_count": null,
   "id": "b5a91d61-b9df-4eed-8585-53ddf82cae0d",
   "metadata": {},
   "outputs": [],
   "source": [
    "pivoted = trials_df[['experiment', 'embed_dim', 'val_loss']].pivot(columns=['experiment'], index='embed_dim', values=['val_loss'])\n",
    "pivoted"
   ]
  },
  {
   "cell_type": "code",
   "execution_count": null,
   "id": "7d386173-6bb4-49b7-a6a1-f242f7a2ff67",
   "metadata": {},
   "outputs": [],
   "source": [
    "pivoted = trials_df[['experiment', 'embed_dim', 'test_loss']].pivot(columns=['experiment'], index='embed_dim', values=['test_loss'])\n",
    "pivoted"
   ]
  },
  {
   "cell_type": "code",
   "execution_count": null,
   "id": "72f16f47-8d84-406e-867a-88fa118e750f",
   "metadata": {},
   "outputs": [],
   "source": [
    "lift_pct = (100 * (1 - pivoted.iloc[:, 1:] / pivoted.iloc[:, 0].values[:, np.newaxis]))\n",
    "lift_pct"
   ]
  },
  {
   "cell_type": "code",
   "execution_count": null,
   "id": "1210ca8d-5650-4610-bf13-40fa8766c123",
   "metadata": {},
   "outputs": [],
   "source": []
  }
 ],
 "metadata": {
  "kernelspec": {
   "display_name": "Python 3 (ipykernel)",
   "language": "python",
   "name": "python3"
  },
  "language_info": {
   "codemirror_mode": {
    "name": "ipython",
    "version": 3
   },
   "file_extension": ".py",
   "mimetype": "text/x-python",
   "name": "python",
   "nbconvert_exporter": "python",
   "pygments_lexer": "ipython3",
   "version": "3.9.6"
  },
  "widgets": {
   "application/vnd.jupyter.widget-state+json": {
    "state": {},
    "version_major": 2,
    "version_minor": 0
   }
  }
 },
 "nbformat": 4,
 "nbformat_minor": 5
}
